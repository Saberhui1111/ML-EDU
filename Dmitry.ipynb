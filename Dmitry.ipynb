{
 "cells": [
  {
   "cell_type": "code",
   "execution_count": null,
   "metadata": {},
   "outputs": [],
   "source": [
    "def Cross_Corr(self):\n",
    "       significant_columns = self.Correlation_Getter(df, threshhold, 'best').index.tolist() #получаем признаки, перешедшие порог влияния на целевую переменную\n",
    "       significant_df = df[significant_columns]\n",
    "       cross_correlation_matrix = significant_df.corr() #создаём матрицу их кросс-корреляции\n",
    "       return cross_correlation_matriх\n"
   ]
  }
 ],
 "metadata": {
  "language_info": {
   "name": "python"
  }
 },
 "nbformat": 4,
 "nbformat_minor": 2
}
